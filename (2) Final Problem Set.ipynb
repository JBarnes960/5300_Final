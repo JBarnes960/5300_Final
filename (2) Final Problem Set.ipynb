{
 "cells": [
  {
   "cell_type": "markdown",
   "metadata": {},
   "source": [
    "# Justin Barnes"
   ]
  },
  {
   "cell_type": "code",
   "execution_count": 1,
   "metadata": {},
   "outputs": [],
   "source": [
    "# Imports\n",
    "%matplotlib inline\n",
    "import numpy as np\n",
    "from scipy.integrate import odeint, solve_ivp\n",
    "import matplotlib.pyplot as plt\n",
    "from IPython.display import Image\n",
    "plt.rcParams['figure.dpi'] = 100.    # this is the default for notebook\n",
    "\n",
    "\n",
    "\n",
    "# Change the common font size (smaller when higher dpi)\n",
    "font_size = 12\n",
    "plt.rcParams.update({'font.size': font_size})"
   ]
  },
  {
   "cell_type": "markdown",
   "metadata": {},
   "source": [
    "# Gravitational Orbit Class"
   ]
  },
  {
   "cell_type": "code",
   "execution_count": 7,
   "metadata": {},
   "outputs": [],
   "source": [
    "class GravityOrbit:\n",
    "    \"\"\"\n",
    "    This class uses the parameters to solve the Euler-Lagrange equations for two particle orbits where the central\n",
    "    force is gravity.\n",
    "    \"\"\"\n",
    "    \n",
    "    def __init__(self, m1 = 1., m2 = 1., g = 1.):\n",
    "        self.m1 = m1\n",
    "        self.m2 = m2\n",
    "        self.g = g\n",
    "\n",
    "        \n",
    "        \n",
    "    def dR_dt(self, t, R):\n",
    "        \"\"\"\n",
    "        This function returns the right-hand side of the diffeq: \n",
    "        [dR/dt d^2R/dt^2]\n",
    "        \n",
    "        Parameters\n",
    "        ----------\n",
    "        t : float\n",
    "            time \n",
    "        R : float\n",
    "            8-component vector with R[0] = x1, R[1] = x1dot\n",
    "                                    R[2] = y1, R[3] = y1dot\n",
    "                                    R[4] = x2, R[5] = x2dot\n",
    "                                    R[6] = y2, R[7] = y2dot\n",
    "                                    \n",
    "        Returns\n",
    "        ----------\n",
    "        \"\"\"\n",
    "        dist = np.sqrt((R[4] - R[0])**2 + (R[6] - R[2])**2)\n",
    "        \n",
    "        return [R[1], self.g * self.m2 * (R[4] - R[0]) / dist**3, \\\n",
    "                R[3], self.g * self.m2 * (R[6] - R[2]) / dist**3, \\\n",
    "                R[5], -self.g * self.m1 * (R[4] - R[0]) / dist**3, \\\n",
    "                R[7], -self.g * self.m1 * (R[6] - R[2]) / dist**3]\n",
    "    \n",
    "    \n",
    "    \n",
    "    def solve_ode_Leapfrog(self, t_pts, R_0):\n",
    "        \"\"\"\n",
    "        Solve the ODE given initial conditions with the Leapfrog method.\n",
    "        \"\"\"\n",
    "        delta_t = t_pts[1] - t_pts[0]\n",
    "        \n",
    "        \n",
    "        # initialize the arrays for R_0 with zeros\n",
    "        x1_0, x1dot_0, y1_0, y1dot_0, x2_0, x2dot_0, y2_0, y2dot_0 = R_0\n",
    "        \n",
    "        num_t_pts = len(t_pts)\n",
    "        \n",
    "        x1_1 = np.zeros(num_t_pts)\n",
    "        x1dot_1 = np.zeros(num_t_pts)\n",
    "        x1dot_1_half = np.zeros(num_t_pts)\n",
    "        \n",
    "        y1_1 = np.zeros(num_t_pts)\n",
    "        y1dot_1 = np.zeros(num_t_pts)\n",
    "        y1dot_1_half = np.zeros(num_t_pts)\n",
    "        \n",
    "        x2_1 = np.zeros(num_t_pts)\n",
    "        x2dot_1 = np.zeros(num_t_pts)\n",
    "        x2dot_1_half = np.zeros(num_t_pts)\n",
    "\n",
    "        y2_1 = np.zeros(num_t_pts)\n",
    "        y2dot_1 = np.zeros(num_t_pts)\n",
    "        y2dot_1_half = np.zeros(num_t_pts)\n",
    "        \n",
    "\n",
    "        # initial conditions\n",
    "        x1_1[0] = x1_0\n",
    "        x1dot_1[0] = x1dot_0\n",
    "        \n",
    "        y1_1[0] = y1_0\n",
    "        y1dot_1[0] = y1dot_0\n",
    "        \n",
    "        x2_1[0] = x2_0\n",
    "        x2dot_1[0] = x2dot_0\n",
    "        \n",
    "        y2_1[0] = y2_0\n",
    "        y2dot_1[0] = y2dot_0\n",
    "        \n",
    "        \n",
    "        # step through the differential equation\n",
    "        for i in np.arange(num_t_pts - 1):\n",
    "            t = t_pts[i]\n",
    "            R = [x1_1[i], x1dot_1[i], y1_1[i], y1dot_1[i], x2_1[i], x2dot_1[i], y2_1[i], y2dot_1[i]]\n",
    "            \n",
    "            \n",
    "            x1dot_1_half[i] = x1dot_1[i] + self.dR_dt(t, R)[1] * delta_t/2.\n",
    "            x1_1[i+1] = x1_1[i] + x1dot_1_half[i] * delta_t\n",
    "            \n",
    "            y1dot_1_half[i] = y1dot_1[i] + self.dR_dt(t, R)[3] * delta_t/2.\n",
    "            y1_1[i+1] = y1_1[i] + y1dot_1_half[i] * delta_t\n",
    "            \n",
    "            x2dot_1_half[i] = x2dot_1[i] + self.dR_dt(t, R)[5] * delta_t/2.\n",
    "            x2_1[i+1] = x2_1[i] + x2dot_1_half[i] * delta_t\n",
    "            \n",
    "            y2dot_1_half[i] = y2dot_1[i] + self.dR_dt(t, R)[7] * delta_t/2.\n",
    "            y2_1[i+1] = y2_1[i] + y2dot_1_half[i] * delta_t\n",
    "            \n",
    "            \n",
    "            R = [x1_1[i+1], x1dot_1[i], y1_1[i+1], y1dot_1[i+1], x2_1[i+1], x2dot_1[i+1], y2_1[i+1], y2dot_1[i+1]]\n",
    "    \n",
    "    \n",
    "            x1dot_1[i+1] = x1dot_1_half[i] + self.dR_dt(t, R)[1] * delta_t/2\n",
    "            y1dot_1[i+1] = y1dot_1_half[i] + self.dR_dt(t, R)[3] * delta_t/2\n",
    "            x2dot_1[i+1] = x2dot_1_half[i] + self.dR_dt(t, R)[5] * delta_t/2\n",
    "            y2dot_1[i+1] = y2dot_1_half[i] + self.dR_dt(t, R)[7] * delta_t/2\n",
    "            \n",
    "        return x1_1, x1dot_1, y1_1, y1dot_1, x2_1, x2dot_1, y2_1, y2dot_1\n",
    "    \n",
    "    \n",
    "    \n",
    "    def solve_ode(self, R_0, t_pts, abserr=1.0e-8, relerr=1.0e-8):\n",
    "        \"\"\"\n",
    "        Solve the ODE given initial conditions.\n",
    "        Specify smaller abserr and relerr to get more precision.\n",
    "        \"\"\"\n",
    "\n",
    "        solution = solve_ivp(self.dR_dt, (t_pts[0], t_pts[-1]), R_0, t_eval=t_pts, method='RK23', atol=abserr, rtol=relerr)\n",
    "        x1, x1dot, y1, y1dot, x2, x2dot, y2, y2dot = solution.y\n",
    "        \n",
    "        \n",
    "        return x1, x1dot, y1, y1dot, x2, x2dot, y2, y2dot"
   ]
  },
  {
   "cell_type": "markdown",
   "metadata": {},
   "source": [
    "# Plotting Function"
   ]
  },
  {
   "cell_type": "code",
   "execution_count": 8,
   "metadata": {},
   "outputs": [],
   "source": [
    "# Pulled from Taylor Problem 7.42 Juypter Noteboook\n",
    "\n",
    "def plot_y_vs_x(x, y, axis_labels=None, label=None, title=None, color=None, linestyle=None, semilogy=False,\n",
    "                loglog=False, ax=None):\n",
    "    \"\"\"\n",
    "    Generic plotting function: return a figure axis with a plot of y vs. x,\n",
    "    with line color and style, title, axis labels, and line label\n",
    "    \"\"\"\n",
    "    \n",
    "    if ax is None:        # if the axis object doesn't exist, make one\n",
    "        ax = plt.gca()\n",
    "\n",
    "    if (semilogy):\n",
    "        line, = ax.semilogy(x, y, label=label, \n",
    "                            color=color, linestyle=linestyle)\n",
    "    elif (loglog):\n",
    "        line, = ax.loglog(x, y, label=label, \n",
    "                          color=color, linestyle=linestyle)\n",
    "    else:\n",
    "        line, = ax.plot(x, y, label=label, \n",
    "                    color=color, linestyle=linestyle)\n",
    "\n",
    "    if label is not None:    # if a label if passed, show the legend\n",
    "        ax.legend()\n",
    "    if title is not None:    # set a title if one if passed\n",
    "        ax.set_title(title)\n",
    "    if axis_labels is not None:  # set x-axis and y-axis labels if passed  \n",
    "        ax.set_xlabel(axis_labels[0])\n",
    "        ax.set_ylabel(axis_labels[1])\n",
    "\n",
    "    return ax, line\n",
    "\n",
    "\n",
    "def start_stop_indices(t_pts, plot_start, plot_stop):\n",
    "    start_index = (np.fabs(t_pts-plot_start)).argmin()  # index in t_pts array \n",
    "    stop_index = (np.fabs(t_pts-plot_stop)).argmin()  # index in t_pts array \n",
    "    return start_index, stop_index"
   ]
  },
  {
   "cell_type": "markdown",
   "metadata": {},
   "source": [
    "# Orbit Plots"
   ]
  },
  {
   "cell_type": "code",
   "execution_count": 10,
   "metadata": {},
   "outputs": [
    {
     "data": {
      "image/png": "[encoded data removed]",
      "text/plain": [
       "<Figure size 600x600 with 1 Axes>"
      ]
     },
     "metadata": {
      "needs_background": "light"
     },
     "output_type": "display_data"
    }
   ],
   "source": [
    "# Plotting time \n",
    "t_start = 0.\n",
    "t_end = 10.\n",
    "delta_t = 0.01\n",
    "\n",
    "t_pts = np.arange(t_start, t_end+delta_t, delta_t)  \n",
    "\n",
    "\n",
    "\n",
    "# Initialize variables\n",
    "m1 = 1.\n",
    "m2 = 5.\n",
    "g = 1.\n",
    "\n",
    "\n",
    "\n",
    "# Initialize the first set of orbits\n",
    "Orbit1 = GravityOrbit(m1, m2, g)\n",
    "\n",
    "\n",
    "\n",
    "# Initialize an intital center of mass velocity equal to 0\n",
    "x1_0, x1dot_0 = 1., -1.\n",
    "y1_0, y1dot_0 = 1., 1.\n",
    "x2_0, x2dot_0 = -(m1 / m2) * x1_0, -(m1 / m2) * x1dot_0\n",
    "y2_0, y2dot_0 = -(m1 / m2) * y1_0, -(m1 / m2) * y1dot_0\n",
    "\n",
    "R_0 = (x1_0, x1dot_0, y1_0, y1dot_0, x2_0, x2dot_0, y2_0, y2dot_0)\n",
    "\n",
    "\n",
    "\n",
    "# Intialize x, y coordinates\n",
    "x1, x1dot, y1, y1dot, x2, x2dot, y2, y2dot = Orbit1.solve_ode(R_0, t_pts)\n",
    "\n",
    "\n",
    "\n",
    "# Create the plot\n",
    "fig = plt.figure(figsize=(6,6))\n",
    "ax = fig.add_subplot(1, 1, 1)\n",
    "\n",
    "start, stop = start_stop_indices(t_pts, t_start, t_end)\n",
    "ax.plot(x1, y1, label=r'$m1$')\n",
    "ax.plot(x2, y2, label=r'$m2$')\n",
    "ax.set_title('First Gravity Orbit')\n",
    "ax.legend()\n",
    "ax.set_aspect(1)\n",
    "fig.tight_layout()"
   ]
  },
  {
   "cell_type": "markdown",
   "metadata": {},
   "source": [
    "# Heavy Mass Orbit Plot"
   ]
  },
  {
   "cell_type": "code",
   "execution_count": 11,
   "metadata": {},
   "outputs": [
    {
     "name": "stdout",
     "output_type": "stream",
     "text": [
      "-4.0 -0.0 -0.0 -30.0\n"
     ]
    },
    {
     "data": {
      "image/png": "[encoded data removed]",
      "text/plain": [
       "<Figure size 600x600 with 1 Axes>"
      ]
     },
     "metadata": {
      "needs_background": "light"
     },
     "output_type": "display_data"
    }
   ],
   "source": [
    "# Plotting time \n",
    "t_start = 0.\n",
    "t_end = 20.\n",
    "delta_t = 0.001\n",
    "\n",
    "t_pts = np.arange(t_start, t_end+delta_t, delta_t)  \n",
    "\n",
    "\n",
    "\n",
    "# Initialize variables\n",
    "m1 = 40.\n",
    "m2 = 1.\n",
    "g = 100.\n",
    "\n",
    "\n",
    "\n",
    "# Initialize the first set of orbits\n",
    "Orbit1 = GravityOrbit(m1, m2, g)\n",
    "\n",
    "\n",
    "\n",
    "# Initialize an intital center of mass velocity equal to 0\n",
    "x1_0, x1dot_0 = 0.1, 0.\n",
    "y1_0, y1dot_0 = 0.0, 0.75\n",
    "x2_0, x2dot_0 = -(m1 / m2) * x1_0, -(m1 / m2) * x1dot_0\n",
    "y2_0, y2dot_0 = -(m1 / m2) * y1_0, -(m1 / m2) * y1dot_0\n",
    "\n",
    "print(x2_0, x2dot_0, y2_0, y2dot_0)\n",
    "\n",
    "R_0 = (x1_0, x1dot_0, y1_0, y1dot_0, x2_0, x2dot_0, y2_0, y2dot_0)\n",
    "\n",
    "\n",
    "\n",
    "# Intialize x, y coordinates\n",
    "x1, x1dot, y1, y1dot, x2, x2dot, y2, y2dot = Orbit1.solve_ode(R_0, t_pts)\n",
    "\n",
    "\n",
    "\n",
    "# Create the plot\n",
    "fig = plt.figure(figsize=(6,6))\n",
    "ax = fig.add_subplot(1, 1, 1)\n",
    "\n",
    "start, stop = start_stop_indices(t_pts, t_start, t_end)\n",
    "ax.plot(x1, y1, label=r'$m1$')\n",
    "ax.plot(x2, y2, label=r'$m2$')\n",
    "ax.set_title('First Gravity Orbit')\n",
    "ax.legend()\n",
    "ax.set_aspect(1)\n",
    "fig.tight_layout()"
   ]
  },
  {
   "cell_type": "markdown",
   "metadata": {},
   "source": [
    "When the mass is much larger than the other mass, the orbit looks circular around the larger mass."
   ]
  },
  {
   "cell_type": "markdown",
   "metadata": {},
   "source": [
    "# Leapfrog Method"
   ]
  },
  {
   "cell_type": "code",
   "execution_count": 9,
   "metadata": {},
   "outputs": [
    {
     "name": "stdout",
     "output_type": "stream",
     "text": [
      "-4.0 -0.0 -0.0 -30.0\n"
     ]
    },
    {
     "data": {
      "image/png": "[encoded data removed]",
      "text/plain": [
       "<Figure size 600x600 with 1 Axes>"
      ]
     },
     "metadata": {
      "needs_background": "light"
     },
     "output_type": "display_data"
    }
   ],
   "source": [
    "# Plotting time \n",
    "t_start = 0.\n",
    "t_end = 20.\n",
    "delta_t = 0.001\n",
    "\n",
    "t_pts = np.arange(t_start, t_end+delta_t, delta_t)  \n",
    "\n",
    "\n",
    "\n",
    "# Initialize variables\n",
    "m1 = 40.\n",
    "m2 = 1.\n",
    "g = 100.\n",
    "\n",
    "\n",
    "\n",
    "# Initialize the first set of orbits\n",
    "Orbit1 = GravityOrbit(m1, m2, g)\n",
    "\n",
    "\n",
    "\n",
    "# Initialize an intital center of mass velocity equal to 0\n",
    "x1_0, x1dot_0 = 0.1, 0.\n",
    "y1_0, y1dot_0 = 0.0, 0.75\n",
    "x2_0, x2dot_0 = -(m1 / m2) * x1_0, -(m1 / m2) * x1dot_0\n",
    "y2_0, y2dot_0 = -(m1 / m2) * y1_0, -(m1 / m2) * y1dot_0\n",
    "\n",
    "print(x2_0, x2dot_0, y2_0, y2dot_0)\n",
    "\n",
    "R_0 = (x1_0, x1dot_0, y1_0, y1dot_0, x2_0, x2dot_0, y2_0, y2dot_0)\n",
    "\n",
    "\n",
    "\n",
    "# Intialize x, y coordinates\n",
    "x1, x1dot, y1, y1dot, x2, x2dot, y2, y2dot = Orbit1.solve_ode_Leapfrog(t_pts, R_0)\n",
    "\n",
    "\n",
    "\n",
    "# Create the plot\n",
    "fig = plt.figure(figsize=(6,6))\n",
    "ax = fig.add_subplot(1, 1, 1)\n",
    "\n",
    "start, stop = start_stop_indices(t_pts, t_start, t_end)\n",
    "ax.plot(x1, y1, label=r'$m1$')\n",
    "ax.plot(x2, y2, label=r'$m2$')\n",
    "ax.set_title('First Gravity Orbit')\n",
    "ax.legend()\n",
    "ax.set_aspect(1)\n",
    "fig.tight_layout()"
   ]
  },
  {
   "cell_type": "markdown",
   "metadata": {},
   "source": [
    "The Leapfrog Method plot is the same as the solve ODE plot."
   ]
  }
 ],
 "metadata": {
  "kernelspec": {
   "display_name": "Python 3.8 (py38)",
   "language": "python",
   "name": "py38"
  },
  "language_info": {
   "codemirror_mode": {
    "name": "ipython",
    "version": 3
   },
   "file_extension": ".py",
   "mimetype": "text/x-python",
   "name": "python",
   "nbconvert_exporter": "python",
   "pygments_lexer": "ipython3",
   "version": "3.8.5"
  }
 },
 "nbformat": 4,
 "nbformat_minor": 4
}
